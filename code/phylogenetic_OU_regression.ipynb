{
 "cells": [
  {
   "cell_type": "markdown",
   "metadata": {},
   "source": [
    "---\n",
    "title: \"Running a Phylogenetic OU Regression with R and Stan\"\n",
    "author: \"Gerhard Jäger\"#\n",
    "date: \"June 12, 2025\"\n",
    "format: html\n",
    "jupyter: ir\n",
    "---\n",
    "\n",
    "\n",
    "# Running a Phylogenetic OU Regression with R and Stan\n",
    "\n",
    "In this notebook, I will illustrate how one can set up a logistic regression with a phylogenetic random effect following an Ornstein-Uhlenbeck process using R and Stan. \n",
    "\n",
    "This kind of analysis has conceptual advantages compared with alternatives - such as phylogenetic random effects following a Brownian motion, or correlated evolution using discrete characters and the CTMC model. However, while there are off-the-shelf solutions for the latter two, the OU regression is, to my knowledge, not yet implemented in a dedicated function or package. Such a model can be set up quite easily in Stan, however. This notebook serves to illustrate how this can be done.\n",
    "\n",
    "\n",
    "## Loading the required packages"
   ]
  },
  {
   "cell_type": "code",
   "execution_count": 1,
   "metadata": {},
   "outputs": [
    {
     "name": "stderr",
     "output_type": "stream",
     "text": [
      "── \u001b[1mAttaching core tidyverse packages\u001b[22m ──────────────────────────────────────────────────────────────────────────────────────────── tidyverse 2.0.0 ──\n",
      "\u001b[32m✔\u001b[39m \u001b[34mdplyr    \u001b[39m 1.1.3     \u001b[32m✔\u001b[39m \u001b[34mreadr    \u001b[39m 2.1.4\n",
      "\u001b[32m✔\u001b[39m \u001b[34mforcats  \u001b[39m 1.0.0     \u001b[32m✔\u001b[39m \u001b[34mstringr  \u001b[39m 1.5.0\n",
      "\u001b[32m✔\u001b[39m \u001b[34mggplot2  \u001b[39m 3.4.4     \u001b[32m✔\u001b[39m \u001b[34mtibble   \u001b[39m 3.2.1\n",
      "\u001b[32m✔\u001b[39m \u001b[34mlubridate\u001b[39m 1.9.3     \u001b[32m✔\u001b[39m \u001b[34mtidyr    \u001b[39m 1.3.0\n",
      "\u001b[32m✔\u001b[39m \u001b[34mpurrr    \u001b[39m 1.0.2     \n",
      "── \u001b[1mConflicts\u001b[22m ────────────────────────────────────────────────────────────────────────────────────────────────────────────── tidyverse_conflicts() ──\n",
      "\u001b[31m✖\u001b[39m \u001b[34mdplyr\u001b[39m::\u001b[32mfilter()\u001b[39m masks \u001b[34mstats\u001b[39m::filter()\n",
      "\u001b[31m✖\u001b[39m \u001b[34mdplyr\u001b[39m::\u001b[32mlag()\u001b[39m    masks \u001b[34mstats\u001b[39m::lag()\n",
      "\u001b[36mℹ\u001b[39m Use the conflicted package (\u001b[3m\u001b[34m<http://conflicted.r-lib.org/>\u001b[39m\u001b[23m) to force all conflicts to become errors\n",
      "Loading required package: StanHeaders\n",
      "\n",
      "\n",
      "rstan version 2.32.3 (Stan version 2.26.1)\n",
      "\n",
      "\n",
      "For execution on a local, multicore CPU with excess RAM we recommend calling\n",
      "options(mc.cores = parallel::detectCores()).\n",
      "To avoid recompilation of unchanged Stan programs, we recommend calling\n",
      "rstan_options(auto_write = TRUE)\n",
      "For within-chain threading using `reduce_sum()` or `map_rect()` Stan functions,\n",
      "change `threads_per_chain` option:\n",
      "rstan_options(threads_per_chain = 1)\n",
      "\n",
      "\n",
      "\n",
      "Attaching package: ‘rstan’\n",
      "\n",
      "\n",
      "The following object is masked from ‘package:tidyr’:\n",
      "\n",
      "    extract\n",
      "\n",
      "\n",
      "\n",
      "Attaching package: ‘ape’\n",
      "\n",
      "\n",
      "The following object is masked from ‘package:dplyr’:\n",
      "\n",
      "    where\n",
      "\n",
      "\n",
      "Loading required package: R.oo\n",
      "\n",
      "Loading required package: R.methodsS3\n",
      "\n",
      "R.methodsS3 v1.8.2 (2022-06-13 22:00:14 UTC) successfully loaded. See ?R.methodsS3 for help.\n",
      "\n",
      "R.oo v1.25.0 (2022-06-12 02:20:02 UTC) successfully loaded. See ?R.oo for help.\n",
      "\n",
      "\n",
      "Attaching package: ‘R.oo’\n",
      "\n",
      "\n",
      "The following object is masked from ‘package:R.methodsS3’:\n",
      "\n",
      "    throw\n",
      "\n",
      "\n",
      "The following objects are masked from ‘package:methods’:\n",
      "\n",
      "    getClasses, getMethods\n",
      "\n",
      "\n",
      "The following objects are masked from ‘package:base’:\n",
      "\n",
      "    attach, detach, load, save\n",
      "\n",
      "\n",
      "R.utils v2.12.2 (2022-11-11 22:00:03 UTC) successfully loaded. See ?R.utils for help.\n",
      "\n",
      "\n",
      "Attaching package: ‘R.utils’\n",
      "\n",
      "\n",
      "The following object is masked from ‘package:rstan’:\n",
      "\n",
      "    extract\n",
      "\n",
      "\n",
      "The following object is masked from ‘package:tidyr’:\n",
      "\n",
      "    extract\n",
      "\n",
      "\n",
      "The following object is masked from ‘package:utils’:\n",
      "\n",
      "    timestamp\n",
      "\n",
      "\n",
      "The following objects are masked from ‘package:base’:\n",
      "\n",
      "    cat, commandArgs, getOption, isOpen, nullfile, parse, warnings\n",
      "\n",
      "\n",
      "This is loo version 2.6.0\n",
      "\n",
      "- Online documentation and vignettes at mc-stan.org/loo\n",
      "\n",
      "- As of v2.0.0 loo defaults to 1 core but we recommend using as many as possible. Use the 'cores' argument or set options(mc.cores = NUM_CORES) for an entire session. \n",
      "\n",
      "\n",
      "Attaching package: ‘loo’\n",
      "\n",
      "\n",
      "The following object is masked from ‘package:rstan’:\n",
      "\n",
      "    loo\n",
      "\n",
      "\n",
      "This is bayesplot version 1.10.0\n",
      "\n",
      "- Online documentation and vignettes at mc-stan.org/bayesplot\n",
      "\n",
      "- bayesplot theme set to bayesplot::theme_default()\n",
      "\n",
      "   * Does _not_ affect other ggplot2 plots\n",
      "\n",
      "   * See ?bayesplot_theme_set for details on theme setting\n",
      "\n"
     ]
    }
   ],
   "source": [
    "library(tidyverse)\n",
    "library(rstan)\n",
    "library(parallel)\n",
    "rstan_options(auto_write = TRUE)\n",
    "library(ape)\n",
    "library(R.utils)\n",
    "library(bridgesampling)\n",
    "library(loo)\n",
    "library(bayesplot)\n",
    "library(codetools)"
   ]
  },
  {
   "cell_type": "markdown",
   "metadata": {},
   "source": [
    "## Data\n",
    "\n",
    "Now let's get some data. I will use the EDGE tree (Bouckaert 2022)."
   ]
  },
  {
   "cell_type": "code",
   "execution_count": 2,
   "metadata": {},
   "outputs": [],
   "source": [
    "# Create data directory if it doesn't exist\n",
    "if (!dir.exists(\"../data\")) dir.create(\"../data\", recursive = TRUE)\n",
    "\n",
    "# Download the file if it doesn't exist\n",
    "tree_gz <- \"../data/global-language-tree-MCC-labelled.tree.gz\"\n",
    "tree_file <- \"../data/global-language-tree-MCC-labelled.tree\"\n",
    "if (!file.exists(tree_file)) {\n",
    "    download.file(\n",
    "        url = \"https://github.com/rbouckaert/global-language-tree-pipeline/releases/download/v1.0.0/global-language-tree-MCC-labelled.tree.gz\",\n",
    "        destfile = tree_gz,\n",
    "        mode = \"wb\"\n",
    "    )\n",
    "    R.utils::gunzip(tree_gz, destname = tree_file, overwrite = TRUE)\n",
    "    # Remove the gzipped file after extraction\n",
    "    if (file.exists(tree_gz)) file.remove(tree_gz)\n",
    "}\n",
    "\n",
    "edge_tree <- read.nexus(tree_file)\n",
    "\n",
    "edge_tree$tip.label <- sapply(strsplit(edge_tree$tip.label, \"_\"), `[`, 1)\n"
   ]
  },
  {
   "cell_type": "markdown",
   "metadata": {},
   "source": [
    "## Grambank data\n",
    "\n",
    "I will look at the somewhat boring feature pair:\n",
    "- GB193: What is the order of adnominal property word and noun?\n",
    "- GB133: Is a pragmatically unmarked constituent order verb-final for transitive clauses?\n",
    "\n",
    "\n",
    "\n",
    "First we get the grambank data."
   ]
  },
  {
   "cell_type": "code",
   "execution_count": 3,
   "metadata": {},
   "outputs": [
    {
     "name": "stderr",
     "output_type": "stream",
     "text": [
      "\u001b[1mRows: \u001b[22m\u001b[34m441663\u001b[39m \u001b[1mColumns: \u001b[22m\u001b[34m9\u001b[39m\n",
      "\u001b[36m──\u001b[39m \u001b[1mColumn specification\u001b[22m \u001b[36m────────────────────────────────────────────────────────────────────────────────────────────────────────────────────────────\u001b[39m\n",
      "\u001b[1mDelimiter:\u001b[22m \",\"\n",
      "\u001b[31mchr\u001b[39m (9): ID, Language_ID, Parameter_ID, Value, Code_ID, Comment, Source, Sou...\n",
      "\n",
      "\u001b[36mℹ\u001b[39m Use `spec()` to retrieve the full column specification for this data.\n",
      "\u001b[36mℹ\u001b[39m Specify the column types or set `show_col_types = FALSE` to quiet this message.\n"
     ]
    }
   ],
   "source": [
    "grambank_file = \"../data/grambank_vals.csv\"\n",
    "if (!file.exists(grambank_file)) {\n",
    "    values_url <- \"https://raw.githubusercontent.com/grambank/grambank/refs/heads/master/cldf/values.csv\"\n",
    "    vals <- read_csv(values_url, na = \"\")\n",
    "    write(vals, grambank_file)\n",
    "} else {\n",
    "    vals <- read_csv(grambank_file)\n",
    "}"
   ]
  },
  {
   "cell_type": "markdown",
   "metadata": {},
   "source": [
    "Now we filter out the datapoints for the two parameters of interest and the languages in the tree. I only consider two values per parameter, and only languages having a relevant value for both parameters."
   ]
  },
  {
   "cell_type": "code",
   "execution_count": 4,
   "metadata": {},
   "outputs": [],
   "source": [
    "d <- vals %>%\n",
    "    filter(Language_ID %in% edge_tree$tip.label) %>%\n",
    "    filter(Parameter_ID %in% c(\"GB193\", \"GB133\")) %>%\n",
    "    select(Language_ID, Parameter_ID, Value) %>%\n",
    "    filter(Value %in% c(0, 1, 2)) %>%\n",
    "    mutate(Value = as.numeric(Value)) %>%\n",
    "    pivot_wider(names_from = Parameter_ID, values_from = Value) %>%\n",
    "    filter(GB193 > 0) %>%\n",
    "    drop_na()"
   ]
  },
  {
   "cell_type": "markdown",
   "metadata": {},
   "source": [
    "Now we prune the tree to only include the languages in the data."
   ]
  },
  {
   "cell_type": "code",
   "execution_count": 5,
   "metadata": {},
   "outputs": [
    {
     "name": "stderr",
     "output_type": "stream",
     "text": [
      "d$Language_ID and pruned_tree$tip.label match.\n",
      "\n"
     ]
    }
   ],
   "source": [
    "pruned_tree <- drop.tip(edge_tree, setdiff(edge_tree$tip.label, d$Language_ID))\n",
    "\n",
    "# Check that d$Language_ID and pruned_tree$tip.label are the same set\n",
    "if (!setequal(d$Language_ID, pruned_tree$tip.label)) {\n",
    "    warning(\"Mismatch between d$Language_ID and pruned_tree$tip.label\")\n",
    "    print(setdiff(d$Language_ID, pruned_tree$tip.label))\n",
    "    print(setdiff(pruned_tree$tip.label, d$Language_ID))\n",
    "} else {\n",
    "    message(\"d$Language_ID and pruned_tree$tip.label match.\")\n",
    "}"
   ]
  },
  {
   "cell_type": "markdown",
   "metadata": {},
   "source": [
    "Now the rows in `d` are rearranged to match the order of the tips in the pruned tree."
   ]
  },
  {
   "cell_type": "code",
   "execution_count": 6,
   "metadata": {},
   "outputs": [],
   "source": [
    "d <- d[match(pruned_tree$tip.label, d$Language_ID), ]"
   ]
  },
  {
   "cell_type": "markdown",
   "metadata": {},
   "source": [
    "Finally we convert the features to numeric values, and convert to 0/1"
   ]
  },
  {
   "cell_type": "code",
   "execution_count": 7,
   "metadata": {},
   "outputs": [],
   "source": [
    "d <- d %>%\n",
    "    mutate(x = GB193 - 1,\n",
    "           y = GB133 \n",
    "    )"
   ]
  },
  {
   "cell_type": "markdown",
   "metadata": {},
   "source": [
    "Let's have a look at the tree and the data."
   ]
  },
  {
   "cell_type": "code",
   "execution_count": 8,
   "metadata": {},
   "outputs": [
    {
     "data": {
      "text/html": [
       "<table class=\"dataframe\">\n",
       "<caption>A tibble: 10 × 5</caption>\n",
       "<thead>\n",
       "\t<tr><th scope=col>Language_ID</th><th scope=col>GB133</th><th scope=col>GB193</th><th scope=col>x</th><th scope=col>y</th></tr>\n",
       "\t<tr><th scope=col>&lt;chr&gt;</th><th scope=col>&lt;dbl&gt;</th><th scope=col>&lt;dbl&gt;</th><th scope=col>&lt;dbl&gt;</th><th scope=col>&lt;dbl&gt;</th></tr>\n",
       "</thead>\n",
       "<tbody>\n",
       "\t<tr><td>abad1241</td><td>1</td><td>2</td><td>1</td><td>1</td></tr>\n",
       "\t<tr><td>abar1238</td><td>0</td><td>2</td><td>1</td><td>0</td></tr>\n",
       "\t<tr><td>abee1242</td><td>0</td><td>2</td><td>1</td><td>0</td></tr>\n",
       "\t<tr><td>abua1245</td><td>0</td><td>2</td><td>1</td><td>0</td></tr>\n",
       "\t<tr><td>abun1252</td><td>0</td><td>2</td><td>1</td><td>0</td></tr>\n",
       "\t<tr><td>acha1249</td><td>1</td><td>2</td><td>1</td><td>1</td></tr>\n",
       "\t<tr><td>acha1250</td><td>0</td><td>2</td><td>1</td><td>0</td></tr>\n",
       "\t<tr><td>ache1245</td><td>0</td><td>2</td><td>1</td><td>0</td></tr>\n",
       "\t<tr><td>ache1246</td><td>1</td><td>2</td><td>1</td><td>1</td></tr>\n",
       "\t<tr><td>achi1257</td><td>0</td><td>2</td><td>1</td><td>0</td></tr>\n",
       "</tbody>\n",
       "</table>\n"
      ],
      "text/latex": [
       "A tibble: 10 × 5\n",
       "\\begin{tabular}{lllll}\n",
       " Language\\_ID & GB133 & GB193 & x & y\\\\\n",
       " <chr> & <dbl> & <dbl> & <dbl> & <dbl>\\\\\n",
       "\\hline\n",
       "\t abad1241 & 1 & 2 & 1 & 1\\\\\n",
       "\t abar1238 & 0 & 2 & 1 & 0\\\\\n",
       "\t abee1242 & 0 & 2 & 1 & 0\\\\\n",
       "\t abua1245 & 0 & 2 & 1 & 0\\\\\n",
       "\t abun1252 & 0 & 2 & 1 & 0\\\\\n",
       "\t acha1249 & 1 & 2 & 1 & 1\\\\\n",
       "\t acha1250 & 0 & 2 & 1 & 0\\\\\n",
       "\t ache1245 & 0 & 2 & 1 & 0\\\\\n",
       "\t ache1246 & 1 & 2 & 1 & 1\\\\\n",
       "\t achi1257 & 0 & 2 & 1 & 0\\\\\n",
       "\\end{tabular}\n"
      ],
      "text/markdown": [
       "\n",
       "A tibble: 10 × 5\n",
       "\n",
       "| Language_ID &lt;chr&gt; | GB133 &lt;dbl&gt; | GB193 &lt;dbl&gt; | x &lt;dbl&gt; | y &lt;dbl&gt; |\n",
       "|---|---|---|---|---|\n",
       "| abad1241 | 1 | 2 | 1 | 1 |\n",
       "| abar1238 | 0 | 2 | 1 | 0 |\n",
       "| abee1242 | 0 | 2 | 1 | 0 |\n",
       "| abua1245 | 0 | 2 | 1 | 0 |\n",
       "| abun1252 | 0 | 2 | 1 | 0 |\n",
       "| acha1249 | 1 | 2 | 1 | 1 |\n",
       "| acha1250 | 0 | 2 | 1 | 0 |\n",
       "| ache1245 | 0 | 2 | 1 | 0 |\n",
       "| ache1246 | 1 | 2 | 1 | 1 |\n",
       "| achi1257 | 0 | 2 | 1 | 0 |\n",
       "\n"
      ],
      "text/plain": [
       "   Language_ID GB133 GB193 x y\n",
       "1  abad1241    1     2     1 1\n",
       "2  abar1238    0     2     1 0\n",
       "3  abee1242    0     2     1 0\n",
       "4  abua1245    0     2     1 0\n",
       "5  abun1252    0     2     1 0\n",
       "6  acha1249    1     2     1 1\n",
       "7  acha1250    0     2     1 0\n",
       "8  ache1245    0     2     1 0\n",
       "9  ache1246    1     2     1 1\n",
       "10 achi1257    0     2     1 0"
      ]
     },
     "metadata": {},
     "output_type": "display_data"
    },
    {
     "data": {
      "image/png": "[encoded data removed]",
      "text/plain": [
       "plot without title"
      ]
     },
     "metadata": {
      "image/png": {
       "height": 420,
       "width": 420
      }
     },
     "output_type": "display_data"
    }
   ],
   "source": [
    "plot(pruned_tree)\n",
    "\n",
    "d %>% head(10)"
   ]
  },
  {
   "cell_type": "markdown",
   "metadata": {},
   "source": [
    "## Stan model\n",
    "\n",
    "The tree is represented as a phylo object in `ape`, which is suitable for Stan.\n",
    "\n",
    "Just to be on the safe side, we make sure that the branches are in postorder."
   ]
  },
  {
   "cell_type": "code",
   "execution_count": 9,
   "metadata": {},
   "outputs": [],
   "source": [
    "pruned_tree <- reorder(pruned_tree, \"postorder\")"
   ]
  },
  {
   "cell_type": "markdown",
   "metadata": {},
   "source": [
    "Now we code the tree and the data as a data list."
   ]
  },
  {
   "cell_type": "code",
   "execution_count": 10,
   "metadata": {},
   "outputs": [],
   "source": [
    "stan_data = list(\n",
    "    N = nrow(d),  # Number of languages\n",
    "    x = d$x,  # Predictor variable (numeral-noun order)\n",
    "    y = d$y,  # Response variable (adnominal demonstrative-noun order)\n",
    "    edge = pruned_tree$edge,  # Edges of the tree\n",
    "    edge_length = pruned_tree$edge.length  # Lengths of the edges\n",
    ")"
   ]
  },
  {
   "cell_type": "markdown",
   "metadata": {},
   "source": [
    "### Vanilla logistic regression\n",
    "\n",
    "We start with a simple logistic regression without any phylogenetic effects, just to see how it works.\n",
    "\n",
    "The model formula is:\n",
    "\n",
    "$$\n",
    "\\begin{align}\n",
    "\\alpha &\\sim \\mathcal N(0, 10)\\\\\n",
    "\\beta &\\sim \\mathcal N(0, 10)\\\\\n",
    "y &\\sim \\text{Bernoulli}(\\text{logit}^{-1}(\\alpha + \\beta x))\n",
    "\\end{align}\n",
    "$$\n",
    "\n",
    "Let's run this in Stan.\n"
   ]
  },
  {
   "cell_type": "code",
   "execution_count": 11,
   "metadata": {},
   "outputs": [
    {
     "name": "stdout",
     "output_type": "stream",
     "text": [
      "\n",
      "SAMPLING FOR MODEL 'anon_model' NOW (CHAIN 1).\n",
      "Chain 1: \n",
      "Chain 1: Gradient evaluation took 8.8e-05 seconds\n",
      "Chain 1: 1000 transitions using 10 leapfrog steps per transition would take 0.88 seconds.\n",
      "Chain 1: Adjust your expectations accordingly!\n",
      "Chain 1: \n",
      "Chain 1: \n",
      "Chain 1: Iteration:    1 / 2000 [  0%]  (Warmup)\n",
      "Chain 1: Iteration:  200 / 2000 [ 10%]  (Warmup)\n",
      "Chain 1: Iteration:  400 / 2000 [ 20%]  (Warmup)\n",
      "Chain 1: Iteration:  600 / 2000 [ 30%]  (Warmup)\n",
      "Chain 1: Iteration:  800 / 2000 [ 40%]  (Warmup)\n",
      "Chain 1: Iteration: 1000 / 2000 [ 50%]  (Warmup)\n",
      "Chain 1: Iteration: 1001 / 2000 [ 50%]  (Sampling)\n",
      "Chain 1: Iteration: 1200 / 2000 [ 60%]  (Sampling)\n",
      "Chain 1: Iteration: 1400 / 2000 [ 70%]  (Sampling)\n",
      "Chain 1: Iteration: 1600 / 2000 [ 80%]  (Sampling)\n",
      "Chain 1: Iteration: 1800 / 2000 [ 90%]  (Sampling)\n",
      "Chain 1: Iteration: 2000 / 2000 [100%]  (Sampling)\n",
      "Chain 1: \n",
      "Chain 1:  Elapsed Time: 0.373 seconds (Warm-up)\n",
      "Chain 1:                0.353 seconds (Sampling)\n",
      "Chain 1:                0.726 seconds (Total)\n",
      "Chain 1: \n",
      "\n",
      "SAMPLING FOR MODEL 'anon_model' NOW (CHAIN 2).\n",
      "Chain 2: \n",
      "Chain 2: Gradient evaluation took 4.6e-05 seconds\n",
      "Chain 2: 1000 transitions using 10 leapfrog steps per transition would take 0.46 seconds.\n",
      "Chain 2: Adjust your expectations accordingly!\n",
      "Chain 2: \n",
      "Chain 2: \n",
      "Chain 2: Iteration:    1 / 2000 [  0%]  (Warmup)\n",
      "Chain 2: Iteration:  200 / 2000 [ 10%]  (Warmup)\n",
      "Chain 2: Iteration:  400 / 2000 [ 20%]  (Warmup)\n",
      "Chain 2: Iteration:  600 / 2000 [ 30%]  (Warmup)\n",
      "Chain 2: Iteration:  800 / 2000 [ 40%]  (Warmup)\n",
      "Chain 2: Iteration: 1000 / 2000 [ 50%]  (Warmup)\n",
      "Chain 2: Iteration: 1001 / 2000 [ 50%]  (Sampling)\n",
      "Chain 2: Iteration: 1200 / 2000 [ 60%]  (Sampling)\n",
      "Chain 2: Iteration: 1400 / 2000 [ 70%]  (Sampling)\n",
      "Chain 2: Iteration: 1600 / 2000 [ 80%]  (Sampling)\n",
      "Chain 2: Iteration: 1800 / 2000 [ 90%]  (Sampling)\n",
      "Chain 2: Iteration: 2000 / 2000 [100%]  (Sampling)\n",
      "Chain 2: \n",
      "Chain 2:  Elapsed Time: 0.38 seconds (Warm-up)\n",
      "Chain 2:                0.38 seconds (Sampling)\n",
      "Chain 2:                0.76 seconds (Total)\n",
      "Chain 2: \n",
      "\n",
      "SAMPLING FOR MODEL 'anon_model' NOW (CHAIN 3).\n",
      "Chain 3: \n",
      "Chain 3: Gradient evaluation took 5.3e-05 seconds\n",
      "Chain 3: 1000 transitions using 10 leapfrog steps per transition would take 0.53 seconds.\n",
      "Chain 3: Adjust your expectations accordingly!\n",
      "Chain 3: \n",
      "Chain 3: \n",
      "Chain 3: Iteration:    1 / 2000 [  0%]  (Warmup)\n",
      "Chain 3: Iteration:  200 / 2000 [ 10%]  (Warmup)\n",
      "Chain 3: Iteration:  400 / 2000 [ 20%]  (Warmup)\n",
      "Chain 3: Iteration:  600 / 2000 [ 30%]  (Warmup)\n",
      "Chain 3: Iteration:  800 / 2000 [ 40%]  (Warmup)\n",
      "Chain 3: Iteration: 1000 / 2000 [ 50%]  (Warmup)\n",
      "Chain 3: Iteration: 1001 / 2000 [ 50%]  (Sampling)\n",
      "Chain 3: Iteration: 1200 / 2000 [ 60%]  (Sampling)\n",
      "Chain 3: Iteration: 1400 / 2000 [ 70%]  (Sampling)\n",
      "Chain 3: Iteration: 1600 / 2000 [ 80%]  (Sampling)\n",
      "Chain 3: Iteration: 1800 / 2000 [ 90%]  (Sampling)\n",
      "Chain 3: Iteration: 2000 / 2000 [100%]  (Sampling)\n",
      "Chain 3: \n",
      "Chain 3:  Elapsed Time: 0.428 seconds (Warm-up)\n",
      "Chain 3:                0.382 seconds (Sampling)\n",
      "Chain 3:                0.81 seconds (Total)\n",
      "Chain 3: \n",
      "\n",
      "SAMPLING FOR MODEL 'anon_model' NOW (CHAIN 4).\n",
      "Chain 4: \n",
      "Chain 4: Gradient evaluation took 5.1e-05 seconds\n",
      "Chain 4: 1000 transitions using 10 leapfrog steps per transition would take 0.51 seconds.\n",
      "Chain 4: Adjust your expectations accordingly!\n",
      "Chain 4: \n",
      "Chain 4: \n",
      "Chain 4: Iteration:    1 / 2000 [  0%]  (Warmup)\n",
      "Chain 4: Iteration:  200 / 2000 [ 10%]  (Warmup)\n",
      "Chain 4: Iteration:  400 / 2000 [ 20%]  (Warmup)\n",
      "Chain 4: Iteration:  600 / 2000 [ 30%]  (Warmup)\n",
      "Chain 4: Iteration:  800 / 2000 [ 40%]  (Warmup)\n",
      "Chain 4: Iteration: 1000 / 2000 [ 50%]  (Warmup)\n",
      "Chain 4: Iteration: 1001 / 2000 [ 50%]  (Sampling)\n",
      "Chain 4: Iteration: 1200 / 2000 [ 60%]  (Sampling)\n",
      "Chain 4: Iteration: 1400 / 2000 [ 70%]  (Sampling)\n",
      "Chain 4: Iteration: 1600 / 2000 [ 80%]  (Sampling)\n",
      "Chain 4: Iteration: 1800 / 2000 [ 90%]  (Sampling)\n",
      "Chain 4: Iteration: 2000 / 2000 [100%]  (Sampling)\n",
      "Chain 4: \n",
      "Chain 4:  Elapsed Time: 0.426 seconds (Warm-up)\n",
      "Chain 4:                0.465 seconds (Sampling)\n",
      "Chain 4:                0.891 seconds (Total)\n",
      "Chain 4: \n",
      "Inference for Stan model: anon_model.\n",
      "4 chains, each with iter=2000; warmup=1000; thin=1; \n",
      "post-warmup draws per chain=1000, total post-warmup draws=4000.\n",
      "\n",
      "       mean se_mean   sd  2.5%   25%   50%   75% 97.5% n_eff Rhat\n",
      "alpha  0.34       0 0.10  0.14  0.27  0.34  0.41  0.53   953    1\n",
      "beta  -0.92       0 0.12 -1.14 -1.00 -0.92 -0.84 -0.68  1016    1\n",
      "\n",
      "Samples were drawn using NUTS(diag_e) at Fri Jun 13 13:35:07 2025.\n",
      "For each parameter, n_eff is a crude measure of effective sample size,\n",
      "and Rhat is the potential scale reduction factor on split chains (at \n",
      "convergence, Rhat=1).\n"
     ]
    }
   ],
   "source": [
    "stan_code_vanilla <- \"\n",
    "data {\n",
    "    int<lower=0> N;                      // Number of observations\n",
    "    vector[N] x;                         // Predictor variable\n",
    "    array[N] int<lower=0,upper=1> y;     // Response variable (binary)\n",
    "}\n",
    "parameters {\n",
    "    real alpha;      // Intercept\n",
    "    real beta;       // Slope\n",
    "}\n",
    "model {\n",
    "    // Priors\n",
    "    alpha ~ normal(0, 10);\n",
    "    beta ~ normal(0, 10);\n",
    "\n",
    "    // Likelihood\n",
    "    y ~ bernoulli_logit(alpha + beta * x);\n",
    "}\n",
    "generated quantities {\n",
    "    vector[N] log_lik;\n",
    "    for (n in 1:N) {\n",
    "        log_lik[n] = bernoulli_logit_lpmf(y[n] | alpha + beta * x[n]);\n",
    "    }\n",
    "}\n",
    "\"\n",
    "stan_model_vanilla <- stan_model(model_code = stan_code_vanilla)\n",
    "fit_vanilla <- sampling(stan_model_vanilla, data = stan_data, iter = 2000, chains = 4)\n",
    "print(fit_vanilla, pars = c(\"alpha\", \"beta\"))"
   ]
  },
  {
   "cell_type": "code",
   "execution_count": 12,
   "metadata": {},
   "outputs": [
    {
     "data": {
      "image/png": "[encoded data removed]",
      "text/plain": [
       "plot without title"
      ]
     },
     "metadata": {
      "image/png": {
       "height": 420,
       "width": 420
      }
     },
     "output_type": "display_data"
    }
   ],
   "source": [
    "mcmc_areas(\n",
    "    as.matrix(fit_vanilla),\n",
    "    pars=\"beta\",\n",
    "    prob = 0.95\n",
    ") + ggplot2::theme(text = ggplot2::element_text(size = 24))"
   ]
  },
  {
   "cell_type": "markdown",
   "metadata": {},
   "source": [
    "The posterior distribution of the slope $\\beta$ does not include zero, indicating that there is a significant relationship between the predictor variable `x` and the response variable `y`. The direction is negative, meaning that N-ANM order disfavors OV order.\n",
    "\n",
    "\n",
    "For model comparison, we can use the `bridgesampling` package to compute the log marginal likelihood."
   ]
  },
  {
   "cell_type": "code",
   "execution_count": 13,
   "metadata": {},
   "outputs": [
    {
     "name": "stdout",
     "output_type": "stream",
     "text": [
      "Iteration: 1\n",
      "Iteration: 2\n",
      "Iteration: 3\n",
      "Iteration: 4\n",
      "Bridge sampling estimate of the log marginal likelihood: -1007.176\n",
      "Estimate obtained in 4 iteration(s) via method \"normal\".\n"
     ]
    }
   ],
   "source": [
    "log_marginal_likelihood_vanilla_regression <- bridge_sampler(fit_vanilla)\n",
    "print(log_marginal_likelihood_vanilla_regression)"
   ]
  },
  {
   "cell_type": "markdown",
   "metadata": {},
   "source": [
    "### Vanilla logistic correlation study\n",
    "\n",
    "A regression model assumes an asymmetry between the predictor variable (which is not modeled) and the response variabel (which is modeled). This is not really justified in observational studies where we have not control over the predictor variable. A more appropriate model is one where both variables are generated by some stochastic process. \n",
    "\n",
    "This can be modeled as follows:\n",
    "\n",
    "$$\t\n",
    "\\begin{align}\n",
    "z &\\sim \\mathcal N(\\mu, R)\\\\\n",
    "R &\\sim \\text{LKJ}(1)\\\\\n",
    "\\mu &= \\mathcal N(\\mathbf 0, 2\\mathbf I)\\\\\n",
    "x &\\sim \\text{Bernoulli}(\\text{logit}^{-1}(z_1))\\\\\n",
    "y &\\sim \\text{Bernoulli}(\\text{logit}^{-1}(z_2))\n",
    "\\end{align}\n",
    "$$\n",
    "\n",
    "Here $z$ is a bivariate normal variable with mean $\\mu$ and covariance $R$. The two components of $z$ have standard deviations 1, and the correlation between them is given by $\\rho = R_{12} = R_{21}$. The correlation matrix is generated from a uniform distribution distribution, which is a flexible way to model correlations. The two variables $x$ and $y$ are then generated from the first and second components of $z$, respectively, using the logistic function. \n",
    "\n",
    "The interesting question is then whether the correlation between $x$ and $y$, i.e., $\\rho = r_{21}$, is significantly different from zero. If it is, this indicates that there is a significant correlation between the two variables, which is what we are interested in."
   ]
  },
  {
   "cell_type": "code",
   "execution_count": 14,
   "metadata": {},
   "outputs": [],
   "source": [
    "stan_code_vanilla_corr <- \"\n",
    "data {\n",
    "  int<lower=0> N;\n",
    "  array[N] int<lower=0, upper=1> x;\n",
    "  array[N] int<lower=0, upper=1> y;\n",
    "}\n",
    "\n",
    "parameters {\n",
    "  vector[2] mu;                          // Mean of latent variables\n",
    "  cholesky_factor_corr[2] L_R;           // Cholesky factor of correlation matrix\n",
    "  matrix[2, N] z_raw;                    // Standard normal latent variables\n",
    "}\n",
    "\n",
    "transformed parameters {\n",
    "  real rho = L_R[2, 1];\n",
    "  matrix[2, N] z;\n",
    "  z = rep_matrix(mu, N) + L_R * z_raw;\n",
    "}\n",
    "\n",
    "model {\n",
    "  // Priors\n",
    "  mu ~ normal(0, 5);\n",
    "  L_R ~ lkj_corr_cholesky(2);\n",
    "  to_vector(z_raw) ~ normal(0, 1); // standard normal prior for latent\n",
    "\n",
    "  // Likelihood\n",
    "  for (n in 1:N) {\n",
    "    x[n] ~ bernoulli_logit(z[1, n]);\n",
    "    y[n] ~ bernoulli_logit(z[2, n]);\n",
    "  }\n",
    "}\n",
    "\n",
    "generated quantities {\n",
    "  vector[N] log_lik_x;\n",
    "  vector[N] log_lik_y;\n",
    "\n",
    "  for (n in 1:N) {\n",
    "    log_lik_x[n] = bernoulli_logit_lpmf(x[n] | z[1, n]);\n",
    "    log_lik_y[n] = bernoulli_logit_lpmf(y[n] | z[2, n]);\n",
    "  }\n",
    "}\n",
    "\"\n",
    "stan_model_vanilla_corr <- stan_model(model_code = stan_code_vanilla_corr)"
   ]
  },
  {
   "cell_type": "code",
   "execution_count": 15,
   "metadata": {},
   "outputs": [
    {
     "name": "stdout",
     "output_type": "stream",
     "text": [
      "\n",
      "SAMPLING FOR MODEL 'anon_model' NOW (CHAIN 1).\n",
      "Chain 1: \n",
      "Chain 1: Gradient evaluation took 0.000385 seconds\n",
      "Chain 1: 1000 transitions using 10 leapfrog steps per transition would take 3.85 seconds.\n",
      "Chain 1: Adjust your expectations accordingly!\n",
      "Chain 1: \n",
      "Chain 1: \n",
      "Chain 1: Iteration:    1 / 10000 [  0%]  (Warmup)\n",
      "Chain 1: Iteration: 1000 / 10000 [ 10%]  (Warmup)\n",
      "Chain 1: Iteration: 2000 / 10000 [ 20%]  (Warmup)\n",
      "Chain 1: Iteration: 3000 / 10000 [ 30%]  (Warmup)\n",
      "Chain 1: Iteration: 4000 / 10000 [ 40%]  (Warmup)\n",
      "Chain 1: Iteration: 5000 / 10000 [ 50%]  (Warmup)\n",
      "Chain 1: Iteration: 5001 / 10000 [ 50%]  (Sampling)\n",
      "Chain 1: Iteration: 6000 / 10000 [ 60%]  (Sampling)\n",
      "Chain 1: Iteration: 7000 / 10000 [ 70%]  (Sampling)\n",
      "Chain 1: Iteration: 8000 / 10000 [ 80%]  (Sampling)\n",
      "Chain 1: Iteration: 9000 / 10000 [ 90%]  (Sampling)\n",
      "Chain 1: Iteration: 10000 / 10000 [100%]  (Sampling)\n",
      "Chain 1: \n",
      "Chain 1:  Elapsed Time: 64.201 seconds (Warm-up)\n",
      "Chain 1:                50.131 seconds (Sampling)\n",
      "Chain 1:                114.332 seconds (Total)\n",
      "Chain 1: \n",
      "\n",
      "SAMPLING FOR MODEL 'anon_model' NOW (CHAIN 2).\n",
      "Chain 2: \n",
      "Chain 2: Gradient evaluation took 0.000258 seconds\n",
      "Chain 2: 1000 transitions using 10 leapfrog steps per transition would take 2.58 seconds.\n",
      "Chain 2: Adjust your expectations accordingly!\n",
      "Chain 2: \n",
      "Chain 2: \n",
      "Chain 2: Iteration:    1 / 10000 [  0%]  (Warmup)\n",
      "Chain 2: Iteration: 1000 / 10000 [ 10%]  (Warmup)\n",
      "Chain 2: Iteration: 2000 / 10000 [ 20%]  (Warmup)\n",
      "Chain 2: Iteration: 3000 / 10000 [ 30%]  (Warmup)\n",
      "Chain 2: Iteration: 4000 / 10000 [ 40%]  (Warmup)\n",
      "Chain 2: Iteration: 5000 / 10000 [ 50%]  (Warmup)\n",
      "Chain 2: Iteration: 5001 / 10000 [ 50%]  (Sampling)\n",
      "Chain 2: Iteration: 6000 / 10000 [ 60%]  (Sampling)\n",
      "Chain 2: Iteration: 7000 / 10000 [ 70%]  (Sampling)\n",
      "Chain 2: Iteration: 8000 / 10000 [ 80%]  (Sampling)\n",
      "Chain 2: Iteration: 9000 / 10000 [ 90%]  (Sampling)\n",
      "Chain 2: Iteration: 10000 / 10000 [100%]  (Sampling)\n",
      "Chain 2: \n",
      "Chain 2:  Elapsed Time: 52.885 seconds (Warm-up)\n",
      "Chain 2:                46.521 seconds (Sampling)\n",
      "Chain 2:                99.406 seconds (Total)\n",
      "Chain 2: \n",
      "\n",
      "SAMPLING FOR MODEL 'anon_model' NOW (CHAIN 3).\n",
      "Chain 3: \n",
      "Chain 3: Gradient evaluation took 0.000276 seconds\n",
      "Chain 3: 1000 transitions using 10 leapfrog steps per transition would take 2.76 seconds.\n",
      "Chain 3: Adjust your expectations accordingly!\n",
      "Chain 3: \n",
      "Chain 3: \n",
      "Chain 3: Iteration:    1 / 10000 [  0%]  (Warmup)\n",
      "Chain 3: Iteration: 1000 / 10000 [ 10%]  (Warmup)\n",
      "Chain 3: Iteration: 2000 / 10000 [ 20%]  (Warmup)\n",
      "Chain 3: Iteration: 3000 / 10000 [ 30%]  (Warmup)\n",
      "Chain 3: Iteration: 4000 / 10000 [ 40%]  (Warmup)\n",
      "Chain 3: Iteration: 5000 / 10000 [ 50%]  (Warmup)\n",
      "Chain 3: Iteration: 5001 / 10000 [ 50%]  (Sampling)\n",
      "Chain 3: Iteration: 6000 / 10000 [ 60%]  (Sampling)\n",
      "Chain 3: Iteration: 7000 / 10000 [ 70%]  (Sampling)\n",
      "Chain 3: Iteration: 8000 / 10000 [ 80%]  (Sampling)\n",
      "Chain 3: Iteration: 9000 / 10000 [ 90%]  (Sampling)\n",
      "Chain 3: Iteration: 10000 / 10000 [100%]  (Sampling)\n",
      "Chain 3: \n",
      "Chain 3:  Elapsed Time: 50.762 seconds (Warm-up)\n",
      "Chain 3:                47.024 seconds (Sampling)\n",
      "Chain 3:                97.786 seconds (Total)\n",
      "Chain 3: \n",
      "\n",
      "SAMPLING FOR MODEL 'anon_model' NOW (CHAIN 4).\n",
      "Chain 4: \n",
      "Chain 4: Gradient evaluation took 0.000338 seconds\n",
      "Chain 4: 1000 transitions using 10 leapfrog steps per transition would take 3.38 seconds.\n",
      "Chain 4: Adjust your expectations accordingly!\n",
      "Chain 4: \n",
      "Chain 4: \n",
      "Chain 4: Iteration:    1 / 10000 [  0%]  (Warmup)\n",
      "Chain 4: Iteration: 1000 / 10000 [ 10%]  (Warmup)\n",
      "Chain 4: Iteration: 2000 / 10000 [ 20%]  (Warmup)\n",
      "Chain 4: Iteration: 3000 / 10000 [ 30%]  (Warmup)\n",
      "Chain 4: Iteration: 4000 / 10000 [ 40%]  (Warmup)\n",
      "Chain 4: Iteration: 5000 / 10000 [ 50%]  (Warmup)\n",
      "Chain 4: Iteration: 5001 / 10000 [ 50%]  (Sampling)\n",
      "Chain 4: Iteration: 6000 / 10000 [ 60%]  (Sampling)\n",
      "Chain 4: Iteration: 7000 / 10000 [ 70%]  (Sampling)\n",
      "Chain 4: Iteration: 8000 / 10000 [ 80%]  (Sampling)\n",
      "Chain 4: Iteration: 9000 / 10000 [ 90%]  (Sampling)\n",
      "Chain 4: Iteration: 10000 / 10000 [100%]  (Sampling)\n",
      "Chain 4: \n",
      "Chain 4:  Elapsed Time: 54.34 seconds (Warm-up)\n",
      "Chain 4:                50.348 seconds (Sampling)\n",
      "Chain 4:                104.688 seconds (Total)\n",
      "Chain 4: \n",
      "Inference for Stan model: anon_model.\n",
      "4 chains, each with iter=10000; warmup=5000; thin=1; \n",
      "post-warmup draws per chain=5000, total post-warmup draws=20000.\n",
      "\n",
      "       mean se_mean   sd  2.5%   25%   50%   75% 97.5% n_eff Rhat\n",
      "mu[1]  1.15       0 0.07  1.01  1.10  1.15  1.19  1.28 24239    1\n",
      "mu[2] -0.38       0 0.06 -0.51 -0.43 -0.38 -0.34 -0.26 22256    1\n",
      "rho   -0.89       0 0.07 -0.98 -0.94 -0.90 -0.85 -0.72  2543    1\n",
      "\n",
      "Samples were drawn using NUTS(diag_e) at Fri Jun 13 13:43:52 2025.\n",
      "For each parameter, n_eff is a crude measure of effective sample size,\n",
      "and Rhat is the potential scale reduction factor on split chains (at \n",
      "convergence, Rhat=1).\n"
     ]
    }
   ],
   "source": [
    "fit_vanilla_corr <- sampling(\n",
    "    stan_model_vanilla_corr,\n",
    "    data = stan_data,\n",
    "    iter = 10000,\n",
    "    chains = 4, \n",
    "    control = list(adapt_delta = 0.95, max_treedepth = 15)\n",
    ")\n",
    "print(fit_vanilla_corr, pars = c(\"mu\", \"rho\"))"
   ]
  },
  {
   "cell_type": "code",
   "execution_count": 16,
   "metadata": {},
   "outputs": [
    {
     "data": {
      "image/png": "[encoded data removed]",
      "text/plain": [
       "plot without title"
      ]
     },
     "metadata": {
      "image/png": {
       "height": 420,
       "width": 420
      }
     },
     "output_type": "display_data"
    }
   ],
   "source": [
    "# Apply thinning to show just 10% of the data\n",
    "posterior_samples <- as.matrix(fit_vanilla_corr)\n",
    "n <- nrow(posterior_samples)\n",
    "thin_idx <- seq(1, n, by = ceiling(n / (n * 0.1)))\n",
    "mcmc_areas(\n",
    "    posterior_samples[thin_idx, ],\n",
    "    pars = \"rho\",\n",
    "    prob = 0.95\n",
    ") + ggplot2::theme(text = ggplot2::element_text(size = 24))"
   ]
  },
  {
   "cell_type": "markdown",
   "metadata": {},
   "source": [
    "The posterior of $\\rho$ is clearly negative, with the HPD interval excluding 0. \n",
    "\n",
    "\n",
    "We compute the log marginal likelihood for this model for later use.\n"
   ]
  },
  {
   "cell_type": "code",
   "execution_count": null,
   "metadata": {},
   "outputs": [],
   "source": [
    "log_marginal_likelihood_vanilla_corr <- bridge_sampler(fit_vanilla_corr)\n",
    "print(log_marginal_likelihood_vanilla_corr)"
   ]
  },
  {
   "cell_type": "markdown",
   "metadata": {},
   "source": [
    "A direct model comparison via Bayes Factor is not possible because the regression model models the distribution of `x` given `y`, while the correlation models the joint distribution. However, we can apply Pareto-smoothed leave one out cross-validation if we marginalize over `x` in the correlation model."
   ]
  },
  {
   "cell_type": "code",
   "execution_count": null,
   "metadata": {},
   "outputs": [],
   "source": [
    "# extract log-likelihood matrix: draws x observations\n",
    "log_lik1 <- extract_log_lik(fit_vanilla, parameter_name = \"log_lik\")\n",
    "log_lik2 <- extract_log_lik(fit_vanilla_corr, parameter_name = \"log_lik_y\")\n",
    "\n",
    "# compute LOO\n",
    "loo1 <- loo(log_lik1)\n",
    "loo2 <- loo(log_lik2)\n",
    "\n",
    "# compare\n",
    "compare(loo1, loo2)"
   ]
  },
  {
   "cell_type": "markdown",
   "metadata": {},
   "source": [
    "### The Ornstein-Uhlenbeck process\n",
    "\n",
    "\n",
    "The OU process is a stochastic process, similar to Brownian motion. The crucial difference is that OU is ``random walk on a leash``. Technically, it is the mixture of a stochastic Brownian motion process and a deterministic trajectory exponentially converging to a mean value. It is characterized by the following distribution:\n",
    "$$\n",
    "X_t \\sim \\mathcal N(x_0e^{-\\lambda t} + \\mu (1-e^{-\\lambda t}), \\frac{\\sigma^2}{2\\lambda}(1-e^{-2\\lambda t}))\n",
    "$$\n",
    "\n",
    "The parameters are:\n",
    "\n",
    "- $x_0$: the initial value of the process\n",
    "- $\\mu$: the mean value to which the process converges\n",
    "- $\\lambda$: the rate of convergence to the mean value\n",
    "- $\\sigma$: the volatility of the process\n",
    "- $t$: the time at which the process is evaluated"
   ]
  }
 ],
 "metadata": {
  "kernelspec": {
   "display_name": "R",
   "language": "R",
   "name": "ir"
  },
  "language_info": {
   "codemirror_mode": "r",
   "file_extension": ".r",
   "mimetype": "text/x-r-source",
   "name": "R",
   "pygments_lexer": "r",
   "version": "4.3.1"
  }
 },
 "nbformat": 4,
 "nbformat_minor": 4
}
